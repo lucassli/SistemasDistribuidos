{
  "nbformat": 4,
  "nbformat_minor": 0,
  "metadata": {
    "colab": {
      "provenance": [],
      "collapsed_sections": [],
      "toc_visible": true
    },
    "kernelspec": {
      "name": "python3",
      "display_name": "Python 3"
    },
    "language_info": {
      "name": "python"
    }
  },
  "cells": [
    {
      "cell_type": "markdown",
      "source": [
        "# **P2 de Sistemas Distribuídos:**\n",
        "\n",
        "**Instituto Federal Fluminense** - Campus Itaperuna\n",
        "\n",
        "**Bacharel em Sistemas de Informação** - 7o Período\n",
        "\n",
        "**Nome** : Lucas S. de Lima\n",
        "\n",
        "O código abaixo apresenta um exemplo clássico de algoritmo combinatório para encontrar as soluções da soma de uma lista de valores.\n",
        "Descrição do Problema:\n",
        "O Computador deve gerar uma lista de Números Naturais aleatórios, de dimenssão passada por parâmetro.\n",
        "Uma soma de valor '10' foi atribuída para efeito de cálculo.\n",
        "O programa deve retornar as combinações que apresentam a soma da lista igual ao valor definido (no caso 10).\n"
      ],
      "metadata": {
        "id": "WKAyeqtXYc0u"
      }
    },
    {
      "cell_type": "markdown",
      "source": [
        "#### **Código1**"
      ],
      "metadata": {
        "id": "23RaX7Tf9pgN"
      }
    },
    {
      "cell_type": "code",
      "execution_count": null,
      "metadata": {
        "colab": {
          "base_uri": "https://localhost:8080/"
        },
        "id": "j6-BGEzf51oe",
        "outputId": "5590a25c-f9e7-4505-cb8c-0dedd48a574e"
      },
      "outputs": [
        {
          "output_type": "stream",
          "name": "stdout",
          "text": [
            "Overwriting Prova_Prog_Paralela.py\n"
          ]
        }
      ],
      "source": [
        "%%writefile Prova_Prog_Paralela.py\n",
        "#Importação das bibliotecas\n",
        "import os\n",
        "import random\n",
        "import sys\n",
        "\n",
        "random.seed(1) #Utilizado aqui para efeito de estudo, pois os mesmos valores\n",
        "               #serão sorteados sempre, facilitando a explicação.\n",
        "\n",
        "#Recebendo a lista de valores por parâmetro do sistema\n",
        "tam_lista = int(sys.argv[1])\n",
        "SOMA = 10 #Valor de soma atribuído - Poderia ser qualquer valor.\n",
        "\n",
        "combinacoes = [] #Esta lista guarda todas as combinações de somas possíveis.\n",
        "\n",
        "#Gerando as combinações de números da lista possíveis, dependendo do tamanho\n",
        "#passado por parâmetro (tam_lista).\n",
        "#As combinações de números da lista será de ordem \"2^tam_lista\", iniciando\n",
        "#em: 0000...0 até 1111...1. \n",
        "print('\\nCombinações: ')\n",
        "for i in range(0, 2**tam_lista):\n",
        "  x = bin(i)\n",
        "  #print(x)\n",
        "  combinacoes.append(x.split('b')[1].zfill(tam_lista))\n",
        "print(combinacoes)\n",
        "print()\n",
        "\n",
        "#Serão gerados aleatóriamente uma quantidade de números definida por 'tam_lista'\n",
        "sorteio = ''\n",
        "for x in range(0,tam_lista):\n",
        "    sorteio += str(random.randint(1,10)) + ' '\n",
        "sorteio = sorteio[:len(sorteio)-1].split(' ')\n",
        "print('\\nNº sorteados:')\n",
        "print(sorteio)\n",
        "\n",
        "print('\\nCombinações que apresentam a soma %d' %SOMA)\n",
        "total = 0\n",
        "for l in combinacoes:\n",
        "  soma = 0\n",
        "  fatores = list(l)\n",
        "  for pos in range(0, len(l)):\n",
        "    soma += int(fatores[pos]) * int(sorteio[pos])\n",
        "  if soma == SOMA:\n",
        "    total += 1\n",
        "    print(sorteio)\n",
        "    print(fatores)\n",
        "    print()\n",
        "print('Total de combinações com a soma %d: %d' % (SOMA, total))"
      ]
    },
    {
      "cell_type": "markdown",
      "source": [
        "#### **Script1**"
      ],
      "metadata": {
        "id": "4zMbVnVt9w3R"
      }
    },
    {
      "cell_type": "code",
      "source": [
        "!python Prova_Prog_Paralela.py 5"
      ],
      "metadata": {
        "colab": {
          "base_uri": "https://localhost:8080/"
        },
        "id": "iostJRywW8Yw",
        "outputId": "1d62c56a-c3dd-427e-f1a6-6674964f3ffd"
      },
      "execution_count": null,
      "outputs": [
        {
          "output_type": "stream",
          "name": "stdout",
          "text": [
            "\n",
            "Combinações: \n",
            "['00000', '00001', '00010', '00011', '00100', '00101', '00110', '00111', '01000', '01001', '01010', '01011', '01100', '01101', '01110', '01111', '10000', '10001', '10010', '10011', '10100', '10101', '10110', '10111', '11000', '11001', '11010', '11011', '11100', '11101', '11110', '11111']\n",
            "\n",
            "\n",
            "Nº sorteados:\n",
            "['3', '10', '2', '5', '2']\n",
            "\n",
            "Combinações que apresentam a soma 10\n",
            "['3', '10', '2', '5', '2']\n",
            "['0', '1', '0', '0', '0']\n",
            "\n",
            "['3', '10', '2', '5', '2']\n",
            "['1', '0', '0', '1', '1']\n",
            "\n",
            "['3', '10', '2', '5', '2']\n",
            "['1', '0', '1', '1', '0']\n",
            "\n",
            "Total de combinações com a soma 10: 3\n"
          ]
        }
      ]
    },
    {
      "cell_type": "markdown",
      "source": [
        "Após executar o código acima, passando um parâmetro de '5', podemos observar quais as combinações possíveis de 5 números: 00000 - 11111.\n",
        "\n",
        "![image.png](data:image/png;base64,iVBORw0KGgoAAAANSUhEUgAAAk8AAAAxCAIAAABMEtqhAAAAA3NCSVQICAjb4U/gAAAQfklEQVR4Xu2dcUyTZx7H3x1LXqOXl7hcm5mjccq7CZScrNtBatTWOKnnCXWR1G0MN1FuQ8mJIZ4cd1jZlLm5TjdlZIOYndXb7MgY1fOozlB3hoabdm6zEre3m64kmjY30jfR8CY03vO2BaE8T9sXWqTN7/3DwPP+3uf3/X1+z8PP5+3b93no3r17FBxAAAgAASAABNKawK/SOjoIDggAASAABICASACqHYwDIAAEgAAQSH8CUO3SP8cQIRAAAkAACEC1gzEABIAAEAAC6U8Aql365xgiBAJAAAgAAah2MAaAABAAAkAg/QlMX7VzNmk0TU4SUVtNbkkrRzo72Xbe3lRWrK82X+PMlbVWYbLdwHVAAAgAASCQ4gTirna37S01JUUFubn5RcWVLQ4+wXHnlTXVaOQJ7jTAXf5F/377Ru/h+p4n1mnpBHcP3QEBIAAEgECqEHg4LqGC0/RytU3ZdLRHz1Jep81BBeK6Ln4jhdagiN86TssMVd27KmRb19oR5xVgBgSAABAAAmlJIK61HX+2zTyoa3jdoJxL03MV6ucM6rlBGgJnbSzToAVfQVFJndl1V2xzNGo068uLnyoo3m4ylhflFpQ0XwyvBIdud9WvLyrIL9CUN9tvh3n6Oqo1S9CiceG4O5nnawtW1TY3Vpat1RQtLzON9OA6UVu2CvUgOqw+7PCN5sTnCC89xRNmV6gY4+SJqq9Z6g0asZMlZfUdXPgGZ4CzNpRpnipAh0Zfa3GPdk1RAbtxlabssGtME/wIBIAAEAACqUQgrmrHOa8Ji5aoZkcG5vpwx65vVft7+vu/PKq/bdp6wBGsHEND2VUdXTXMWStV8+XZP9NdneGP63wOjn393JVvTtX9xlbbZA3VKllZ64XevjdXTrjPeOOasOZQx+kLHZtp8wFz+DM9Or/q3dN9V/v7/llBHa/eZws6DHDtr1Z3za460dvff/nc/hI5NSw24+UN2nZtMXmeOfjlN/19H+m972w98p1ozJ8x7f5Kub/nypUrfR1vbFAyYuPIIXgHPL5f4HO/sUzgZyAABIBAKhGIq9rxvJ9iMieUI87+Bad6vkpc5zHKio1a//me4KJqloLNZuaxWbOz2AW04rdZwqA3tLhjlm6syGOoDEXpy7pMx7+dwbUg8cjS6gvFmqNQqeQDnoHgck1ZtkWXJ0NK6Gz9ut9T7u89Yuv1Lst1Vc3fS1lUjzMY5RqdUtSKl8efP2mbY2jYrGIyKPqJio1L/bYvxEUbnYEqnpf73sMHaFmeWikboytD19r/4wWjeFMUDiAABIAAEEhFAnF9bscwmZTbj5Y24wpegPcP0rK54bJAy+WZvFjVRm1mob5RCUH/DlOhZVGmjAmffUQuG3Z571DUhPXifYhzMlFBEg/0b2Ao1O6xmZo/tF275Ue/Czwvnx/s2OvzMgrZnPH8CfK8Pp8wYK5cZglbC0Lms2IntO611pumI3teNN3wy9UVTc116rEFb3zf8BsQAAJAAAikFoG4qh2ryqPP9DrvGrRji1MGk8kIrkF0P1IsC4LX62fkaC0W5X6f38eHS+YvXt/DQWtJx21LfZ2NPXLikBYt7wRbTZEpdLlcJuddPlRpQ58mhhoJ8uQyGa0ynD5REVnLMmTq6v3qaooadLa8Umn8aPXZnUpJ6sAYCAABIAAEZiyBuO5kMsVVBsbW3GhxDQoC73GesjoHUUSsdqXC+XGbA/3Mu8zH7JmaFcrQaowQLn/xmPmaQAU81uM2v/oP6gn3RgnXjTQLqFjK2BzxTiZ1s+vk6NcgFukNi5xH3rBy6NZogOfO2FxiycXLY1Zu0P1k3tfJ8ejWqMBzF6324AMp/Hc223e+4CpP7J7+9Rhx8JRKjMTAaSAABIDATCcQ19qOolUN5la6yVS5rN6H6k3hxiaNGJhy6/tNvvr6FbleimE1NQd3xqhfMjXLNS4vuC5kqgyH3ioVl3YBp8mww3JrSBgU+IvlRWZqlvpvp0zBUxOP+YaGbb31zxdbZDJGrmIXMwMhmwx2S8shYa+pvLDWF2DYpTUHdWR5c3VvtvuN+zYvb/QKDzMK5YotxlLR+n+Xj+3bvesWjxqVK+v2v8SO8Q9PqUxMBrQAASAABFKJwENptZsrb6ut5WqObhtbqVIpG6AVCAABIAAEkkMgrjuZyXGdhF6ZvHzh8phv4SXBBXQJBIAAEAACKUggfaqdr7O+bP1mS8YS1SMpmAeQDASAABAAAskkkF53MpNJCvoGAkAACACB1CWQPmu71M0BKAcCQAAIAIFkE4Bql2zC0D8QAAJAAAg8eAISqh3agm5hQZFmbbMj0RsgPHgMoAAIAAEgAATSmoCEaoc4KDefuHC6QT3+K+TcwZKIbVqF7y31+qLc3NyitdXtX49uheezH6gsfgptmKAp32vzjJZM3tleU1yUn5s7dkcCivKcMZYvF7dXKK4y3X/MkmAs5shh1Ohbprgh7MRYKIJHSfLwQG5ajVVo14XchY+Xm+/v5hAcbgFbdX65RfwK/xQODBB8CvDyKLyx77yp2lBclLtw4dpxtPFARPk+c3lBrW0KgRCA4D1Kyhc+BYLzw+ry1UW5jy8sanRE6MaMEMmRYYBISQFRniQgomrMCJEcDAaIlBSQhhMeCD5fQc0zYcoQ5JFixOdLDAYzQiQnBgcE7xGbr4DLXFdesrxg4cLc6jNjnONjJI5JdCVmhEgOBgMEHwteHhUaTtKqXVwiA64j24yupa19V68cLeWPbG+2B9/+7OvcXdtJ13x2pb+7SXG+dsfx4AudKcG+t/oIbzjx3/6+99SuPeEdCaib7Tv+4mCN5/qvnNpCW6p3hzZMIBjHJWtyRgSPkuQRgFAZMqWuav/rBja+r/hPLoCxV+FTQJCHN0Zvmcl8fMXLTW/+STXuTTh4IFOXTO4B71FSvtArWPEpoOct2VDfWjdt+/9KTQFWniQgZK5TPiMtBfjhRABCyteUNRM7wM8CifLwMeLzRVSSgBN4j4R8ZdBylb7unYbSiFcszpApg4+FMKNH8pWEavdtl/WWuuoVtMkArXyparXQ/bm4ERDfc8ouf7amdD5NPardVqF0WW1iuRPsn5+nVldWoO0LmKerKtQe67/E7YG4M12uPMOWlTKKVhhe0Wf+5/MetNAhGCdgHJC6IHiUJg8PhKKy1IYynZqVS32BGklsrHZCCvDyCMZou4unSw1r1MrxqvFAYgmaynm8R0n5Qu7xKaCVJRWlWpViuhJDSUsBXp4kIFMhH+NaiSnADicCEFK+YiiawmnCLMDniygPGyM+X1PQGvNSvEdCvtCbF3XlBu2TisyIl0HOjCmDj4U0o0fylYBqJ9fVNJQqRlnzbs47T5ktONv3ttgHs9ksYcDtRVvQcT9RWayCO2Vq/sSVOZ+l3Vfd6GbmbY/7roJdwNsPN7dfEthsudfNoVufA5yHfozNvGZpPmD1ZOVnB9zcDaJx2DWrr9uqlcfMeVSDiFgSIg8PJKoMKiNv456qiRsKRr8o8mwEEEIK8PIIxpEuRn7H5yt8llFXvrZhim/YngAE71HScCIFE7U9coRENSacjASSxBQQgISFPfApQwCEB0IwDjdPGCHRzfFnpzJl8D0SW/EDOGweOUKIvUQ5MQEI3mP0ERKl/7hPJWPK4GMhSBodTgmodkyeTvfk/eWucEeg6FmUz9Hd2dU7QNFzKP4Oql8Cf5diaMFtt3Sdd/ln0zR6vzTac/UO2kiIZmiu12rpdnrpOQx1VxBEY4GeQ/u/7e7q7HUP03TGkID2+MEbj4QoU5Xqxm/CSgg+SnNELASP0uQRgERRgU4p1GVadopri0gg+BQQ5OGNCaIJQMLWNLuyVJ1FuDTe5gggBI/4EUIwjtf1OLvIETKZTiKBJDEFeCAjoiNHyGSCiQSC9ygtBQQg0eU98CkTXV7E2ehAIkeIpK5HjKcyZSblkHBR5AghmEVtjgASnV5kT6PDKfEfGaEqRaHStKiu4/I29KxJ+x2KQTWMEpjZlFdgdKY+8Y3N9nqBphnkfA7aJBaVPXXDuSuo2bWfp1AhRPVvNo0kKp472vccuglqPRaYhQoowTgytkT+nhB5eCCJlBlfX4gqJgXS8oX3RMgX3jghrQSPkvKVECGJ6CSJKcADSYRoUh94j4R8ETohACFYJ7FZ0pSRpEMaEEldE4wJHvH5IvQxU5oJsRDkjQ6nBKztIlww2az8FudGO7WiQ3BzA3RWtpzKYNkF6P5k+JFJz4+ckJ2fje4IP6rInu3huNCmeLzb7ZXPZ1FtRPc8hRtc6DkW6uZVd0Y2+xjRmBBjIpoTIQ8PJBHqpPVBSAFeHsGY5BGfL5J1ItrxHiXlKxEyEtJHElNAAJIQ2fhOCB7x+cJ3QeGBEIyT2EyYBQmRJwlIQmLEeyTkKyEek9cJPhaCv9F8Jb7aUb/T6+bZ2z5w8gHB9Y+2bnr1OnEjIGbFGrW384h1QKBu21s+din/qBM/66O161ZS3UfNaGs6/lJbm0NRqlehZnaNXnnN0n7eRwkeywdd/mXrVqCdWgnGhBjDza5PjMYDwSdiJnEQPEqThwcSVBMQhOHgtuzo9m0c32IULrUbG1vsEV9XiDcuQgrw8gjGIV+CMITuQg8PCSOy8UCiC/PZWxqN5ktRdv+Ndj3eo6R8hbrHpiC496GoDJ2NS6DHesBo7Jjs91+kpgAnTxKQaGTRLZZpmzKE4UT4GxK0xuaLHM80Tpmo8lJtygRRi3+Wgj/wwti/TtgU4MYkOS3oGf0kTP+Qv4nyRuYXhXb8ifPo3paz9r0f4jEeun5ye2lhTk5Ooe7VNqd/5BJvz1ubli/OyVm8/IU93T8PjzT7L7dtW4Wac9Trd336w9BI88/W3euXidarNr3d641hTFY1hGQveGbf1VF3ZFP8mUTIwwO5dewFdsH9Q7m9O5ZI7/EXFrDr2zx4pXG04lOAl3ePYGx9NWeM6gUVJ0PJwecriibX26vYnE2fjQ6PKKb4U3iPkvJFSEHvXwvHhhh72A/37i5csHhnD15oHK2SUkCSJwkIWdS0TpkhwnDCAyHkixzLvWmdMgR5pBjx+YoSzHROmeGrb+vGToLC3V8FlRFiJI1JYjRJioUgLzScJFS7np2FiwsLl/9xX2+sP8rECKf/xPDlfdqc9R/EVaSnX51Ej0M9Oxcv3hKuLhKvnXHm/k835ah39Uy+2M2kiG60rc9Ztc85+l+1maRNqhaYMlKJTZd9Ok2ZBxKLhKdUtG/1iU+SpNYx4HBS+poX02J714Cr92tFxTuGiK97plZCRtQKTodLtaVJi9+lPsVi4h29Hm1N65NTfIh2ZkQNU2Zm5GGCinSaMg8mFtjxZ8KgggYgAASAABBIOwJJeEol7RhBQEAACAABIJDqBKDapXoGQT8QAAJAAAjEJgDVLjYjsAACQAAIAIFUJwDVLtUzCPqBABAAAkAgNgGodrEZgQUQAAJAAAikOgGodqmeQdAPBIAAEAACsQlAtYvNCCyAABAAAkAg1QlAtUv1DIJ+IAAEgAAQiE0Aql1sRmABBIAAEAACqU4Aql2qZxD0AwEgAASAQGwCUO1iMwILIAAEgAAQSHUCUO1SPYOgHwgAASAABGITgGoXmxFYAAEgAASAQKoT+D9Xht12xIn3DgAAAABJRU5ErkJggg==)\n",
        "\n",
        "Em seguida, o código mostra a lista de 5 números sorteados aleatóriamente.\n",
        "\n",
        "![image.png](data:image/png;base64,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)\n",
        "\n",
        "Assim, não é difícil definir quais as combinações de números que apresentem uma soma igual ao definido no algorítimo(10).\n",
        "\n",
        "![image.png](data:image/png;base64,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)\n"
      ],
      "metadata": {
        "id": "fRllEvdXbCHm"
      }
    },
    {
      "cell_type": "markdown",
      "source": [
        "### **Verificando o crescimento do custo computacional para resolver o código anterior**\n",
        "Como o tamanho do problema (a quantidade de números), pode ser passada por parâmetro, podemos monitorar o tempo de execução do código em cada situação, \n",
        " dependendo da quantidade de números da lista."
      ],
      "metadata": {
        "id": "g-bM4p0chyJ8"
      }
    },
    {
      "cell_type": "markdown",
      "source": [
        "#### **Script2**"
      ],
      "metadata": {
        "id": "4dkC2Etr9_jW"
      }
    },
    {
      "cell_type": "code",
      "source": [
        "import time as t\n",
        "tempo_exec=[]\n",
        "tempo_teorico=[]\n",
        "for i in range(15, 23):\n",
        "  tempo_atual = t.time()\n",
        "  string = 'python Prova_Prog_Paralela.py '+str(i)+' >> /dev/null' #Jogando a saida para null para não poluir o terminal\n",
        "  !$string\n",
        "  tempo_final = t.time()\n",
        "  tempo_final -= tempo_atual\n",
        "  tempo_exec.append((i,tempo_final))\n",
        "  #Comparando os resultados com os valores de f(i) = 2*f(i-1)\n",
        "  tempo_teorico.append((i+1, tempo_final*2))\n",
        "print(tempo_exec) \n",
        "print(tempo_teorico)"
      ],
      "metadata": {
        "colab": {
          "base_uri": "https://localhost:8080/"
        },
        "id": "K1olexzcXNTI",
        "outputId": "7f785102-1cbc-42e3-b97d-7ec5dac95886"
      },
      "execution_count": null,
      "outputs": [
        {
          "output_type": "stream",
          "name": "stdout",
          "text": [
            "[(15, 0.423168420791626), (16, 1.3160405158996582), (17, 2.4315550327301025), (18, 4.334340333938599), (19, 13.009908676147461), (20, 13.069246053695679), (21, 27.33614158630371), (22, 58.97644066810608)]\n",
            "[(16, 0.846336841583252), (17, 2.6320810317993164), (18, 4.863110065460205), (19, 8.668680667877197), (20, 26.019817352294922), (21, 26.138492107391357), (22, 54.67228317260742), (23, 117.95288133621216)]\n"
          ]
        }
      ]
    },
    {
      "cell_type": "markdown",
      "source": [
        "Como podemos observar, existe uma grande variação de tempo de execução ao alterar uma pequena quantidade de números da lista:\n",
        "\n",
        "\n",
        "*   15 números = 0.426 segundos\n",
        "*   22 números = 52.234 segundos.\n",
        "\n",
        "Outra Característica interessante qu podemos observar é a aproximação do tempo de execução em um determinado instante ser semelhante ao dobro do tempo no instante anterior:\n",
        "\n",
        "$f(x) = 2^t$\n",
        "\n",
        " Onde $t$ é a quantidade de números da lista\n",
        "\n"
      ],
      "metadata": {
        "id": "1k-PQJftvjtJ"
      }
    },
    {
      "cell_type": "markdown",
      "source": [
        "### **Plotando o gráfico do Tempo de Execução:**\n",
        "Como podemos observar no gráfico anterior, o tempo de sexecução foi próximo de 0\n",
        "para uma lista de 15 números e rapidamente cresceu para mais que 55 segundos ao chegarmos em 22 números."
      ],
      "metadata": {
        "id": "IHCS6lHBxGE-"
      }
    },
    {
      "cell_type": "code",
      "source": [
        "import matplotlib.pyplot as plt\n",
        "plt.figure(figsize=(10,7))\n",
        "plt.plot([tempo_exec[i][0] for i in range(len(tempo_exec))], [tempo_exec[i][1] for i in range(len(tempo_exec))], label='Alg.Serial')\n",
        "plt.plot([tempo_teorico[i][0] for i in range(len(tempo_teorico)-1)], [tempo_teorico[i][1] for i in range(len(tempo_teorico)-1)], label='Previsto')\n",
        "plt.title('Tempo de execução')\n",
        "plt.xlabel('Tamanho da Lista')\n",
        "plt.ylabel('Segundos')\n",
        "plt.legend()\n",
        "plt.grid()\n",
        "plt.show()"
      ],
      "metadata": {
        "colab": {
          "base_uri": "https://localhost:8080/",
          "height": 458
        },
        "id": "NZ-2tvwFjd5o",
        "outputId": "30a54a66-62c6-48bc-942b-d16ef652c6f2"
      },
      "execution_count": null,
      "outputs": [
        {
          "output_type": "display_data",
          "data": {
            "text/plain": [
              "<Figure size 720x504 with 1 Axes>"
            ],
            "image/png": "[encoded data removed]"
          },
          "metadata": {
            "needs_background": "light"
          }
        }
      ]
    },
    {
      "cell_type": "markdown",
      "source": [
        "# **Paralelização do Problema**\n",
        "Como podemos observar, temos um código com combinações de uma lista de números que são selecionados para obter uma soma. Isto pode ser caracterizado como um problema de combinação de valores e portanto pode ser facilmente paralelizado.\n",
        "Para tanto, podemos entregar a cada unidade de processamento um intervalo da combinação a ser testada.\n",
        "\n",
        "Exemplo:\n",
        "\n",
        "Considerando um problema com a lista de números: [10, 5, 2, 3], onde desejamos obter as combinações de números cuja a soma corresponda à (10).\n",
        "Neste caso, o computador pode testar todas as combinações:\n",
        "\n",
        "*   [0, 0, 0, 0] - Não levar nenhum produto até,\n",
        "*   [1, 1, 1, 1] - Levar todos os produtos.\n",
        "\n",
        "Facilmente podemos observar que as soluções podem ser encontradas em:\n",
        "\n",
        "*   [0, 1, 1, 1] e\n",
        "*   [1, 0, 0, 0].\n",
        "\n",
        "Nada impede também que os testes sejam divididos em unidades de processamento individuais, pois os resultados dos testes não são interdependentes. Assim a unidade de processamento 1 (P1), poderia realizar os testes entre: 0000 e 0111; enquanto a unidade de processamento 2 (P2), poderia realizar os testes entre: 1000 e 1111; de forma paralela.\n",
        "\n",
        "Ao final de todos os testes as unidades de processamento poderiam trocar mensagens afim de informar seus resultados parciais, unificando-os.\n",
        "\n",
        "\n",
        "\n",
        "\n",
        "\n"
      ],
      "metadata": {
        "id": "75r4O5YO47Eo"
      }
    },
    {
      "cell_type": "markdown",
      "source": [
        "# **Questão da Prova:**\n",
        "Observando a utilização do OpenMPI em Python abaixo, modifique \"Código1\", afim de paralelizar as tarefas de testes de combinações da soma da lista de números em dois processos distintos.\n",
        "Plote os gráficos do tempo de execução de cada algoritmo (Serial e Paralelo), afim de observar o ganho de processamento."
      ],
      "metadata": {
        "id": "sGfDiNC88q4j"
      }
    },
    {
      "cell_type": "markdown",
      "source": [
        "#### **Código 1**\n",
        "Install MPI"
      ],
      "metadata": {
        "id": "oZCWNsLc-R9w"
      }
    },
    {
      "cell_type": "code",
      "source": [
        "! pip install mpi4py"
      ],
      "metadata": {
        "colab": {
          "base_uri": "https://localhost:8080/"
        },
        "id": "_qWeW4Womxqc",
        "outputId": "d900da29-0bf9-4742-e170-8dcf499aa489"
      },
      "execution_count": null,
      "outputs": [
        {
          "output_type": "stream",
          "name": "stdout",
          "text": [
            "Looking in indexes: https://pypi.org/simple, https://us-python.pkg.dev/colab-wheels/public/simple/\n",
            "Requirement already satisfied: mpi4py in /usr/local/lib/python3.7/dist-packages (3.1.3)\n"
          ]
        }
      ]
    },
    {
      "cell_type": "markdown",
      "source": [
        "Importing MPI"
      ],
      "metadata": {
        "id": "uQ6O11Nv4SYH"
      }
    },
    {
      "cell_type": "code",
      "source": [
        "%%writefile codigoobi2.py\n",
        "from mpi4py import MPI\n",
        "\n",
        "import os\n",
        "import random\n",
        "import sys\n",
        "\n",
        "\n",
        "tam_medicoes = int(sys.argv[1])\n",
        "\n",
        "comm = MPI.COMM_WORLD\n",
        "id = comm.Get_rank() \n",
        "numerodeprocessos = comm.Get_size()   \n",
        "\n",
        "inicio = round(id * ((2**tam_medicoes) / numerodeprocessos))\n",
        "fim = round(inicio + ((2**tam_medicoes) / numerodeprocessos) -1)\n",
        "\n",
        "print('Processo: %d | inicio: %d - fim:%d' %(id,inicio,fim))\n",
        "\n",
        "soma_usuario = 15\n",
        "medicao = ''\n",
        "\n",
        "if id == 0:\n",
        "    for x in range(0,tam_medicoes):\n",
        "      medicao += str(random.randint(1,10)) + ' '\n",
        "    medicao = medicao[:len(medicao)-1].split(' ')\n",
        "    print('A medição é:')\n",
        "    print(medicao)\n",
        "    print()\n",
        "    for i in range(1, numerodeprocessos):\n",
        "      comm.send(medicao, dest= i, tag=22)\n",
        "else:\n",
        "    medicao = comm.recv(source=0, tag=22)\n",
        "\n",
        "combinacoes = []\n",
        "for i in range(inicio, fim + 1):\n",
        "  x = bin(i)\n",
        "  combinacoes.append(x.split('b')[1].zfill(tam_medicoes))\n",
        "print('As combinações são:')\n",
        "print(combinacoes)\n",
        "print()\n",
        "\n",
        "\n",
        "total = 0\n",
        "resultato_fatores = []\n",
        "\n",
        "for l in combinacoes:\n",
        "  soma = 0\n",
        "  fatores = list(l)\n",
        "  for pos in range(0, len(l)):\n",
        "    soma += int(fatores[pos]) * int(medicao[pos])\n",
        "  if soma == soma_usuario:\n",
        "    total += 1\n",
        "    resultato_fatores.append(fatores)\n",
        "\n",
        "\n",
        "if id != 0:       \n",
        "    comm.send(resultato_fatores, 0)    \n",
        "else:\n",
        "    for i in range(0, numerodeprocessos -1):\n",
        "        resultato_fatores.append(comm.recv())\n",
        "\n",
        "print('Total de combinações %d: %d' % (id,total))"
      ],
      "metadata": {
        "colab": {
          "base_uri": "https://localhost:8080/"
        },
        "id": "1qlmCkWb_VqV",
        "outputId": "1bd90e82-de20-4163-d109-9cf61144852f"
      },
      "execution_count": null,
      "outputs": [
        {
          "output_type": "stream",
          "name": "stdout",
          "text": [
            "Overwriting codigoobi2.py\n"
          ]
        }
      ]
    },
    {
      "cell_type": "markdown",
      "source": [
        "Run MPI"
      ],
      "metadata": {
        "id": "Ln0d7oa54WKF"
      }
    },
    {
      "cell_type": "code",
      "source": [
        "!mpirun --allow-run-as-root -np 2 python codigoobi2.py 8"
      ],
      "metadata": {
        "colab": {
          "base_uri": "https://localhost:8080/"
        },
        "id": "t21BYV8AAaYS",
        "outputId": "51894e31-0769-4ab7-f68b-8186de831473"
      },
      "execution_count": null,
      "outputs": [
        {
          "output_type": "stream",
          "name": "stdout",
          "text": [
            "Processo: 1 | inicio: 128 - fim:255\n",
            "Processo: 0 | inicio: 0 - fim:127\n",
            "A medição é:\n",
            "['1', '10', '3', '5', '9', '2', '9', '9']\n",
            "\n",
            "As combinações são:\n",
            "['00000000', '00000001', '00000010', '00000011', '00000100', '00000101', '00000110', '00000111', '00001000', '00001001', '00001010', '00001011', '00001100', '00001101', '00001110', '00001111', '00010000', '00010001', '00010010', '00010011', '00010100', '00010101', '00010110', '00010111', '00011000', '00011001', '00011010', '00011011', '00011100', '00011101', '00011110', '00011111', '00100000', '00100001', '00100010', '00100011', '00100100', '00100101', '00100110', '00100111', '00101000', '00101001', '00101010', '00101011', '00101100', '00101101', '00101110', '00101111', '00110000', '00110001', '00110010', '00110011', '00110100', '00110101', '00110110', '00110111', '00111000', '00111001', '00111010', '00111011', '00111100', '00111101', '00111110', '00111111', '01000000', '01000001', '01000010', '01000011', '01000100', '01000101', '01000110', '01000111', '01001000', '01001001', '01001010', '01001011', '01001100', '01001101', '01001110', '01001111', '01010000', '01010001', '01010010', '01010011', '01010100', '01010101', '01010110', '01010111', '01011000', '01011001', '01011010', '01011011', '01011100', '01011101', '01011110', '01011111', '01100000', '01100001', '01100010', '01100011', '01100100', '01100101', '01100110', '01100111', '01101000', '01101001', '01101010', '01101011', '01101100', '01101101', '01101110', '01101111', '01110000', '01110001', '01110010', '01110011', '01110100', '01110101', '01110110', '01110111', '01111000', '01111001', '01111010', '01111011', '01111100', '01111101', '01111110', '01111111']\n",
            "\n",
            "As combinações são:\n",
            "['10000000', '10000001', '10000010', '10000011', '10000100', '10000101', '10000110', '10000111', '10001000', '10001001', '10001010', '10001011', '10001100', '10001101', '10001110', '10001111', '10010000', '10010001', '10010010', '10010011', '10010100', '10010101', '10010110', '10010111', '10011000', '10011001', '10011010', '10011011', '10011100', '10011101', '10011110', '10011111', '10100000', '10100001', '10100010', '10100011', '10100100', '10100101', '10100110', '10100111', '10101000', '10101001', '10101010', '10101011', '10101100', '10101101', '10101110', '10101111', '10110000', '10110001', '10110010', '10110011', '10110100', '10110101', '10110110', '10110111', '10111000', '10111001', '10111010', '10111011', '10111100', '10111101', '10111110', '10111111', '11000000', '11000001', '11000010', '11000011', '11000100', '11000101', '11000110', '11000111', '11001000', '11001001', '11001010', '11001011', '11001100', '11001101', '11001110', '11001111', '11010000', '11010001', '11010010', '11010011', '11010100', '11010101', '11010110', '11010111', '11011000', '11011001', '11011010', '11011011', '11011100', '11011101', '11011110', '11011111', '11100000', '11100001', '11100010', '11100011', '11100100', '11100101', '11100110', '11100111', '11101000', '11101001', '11101010', '11101011', '11101100', '11101101', '11101110', '11101111', '11110000', '11110001', '11110010', '11110011', '11110100', '11110101', '11110110', '11110111', '11111000', '11111001', '11111010', '11111011', '11111100', '11111101', '11111110', '11111111']\n",
            "\n",
            "Total de combinações 1: 6\n",
            "Total de combinações 0: 2\n"
          ]
        }
      ]
    },
    {
      "cell_type": "markdown",
      "source": [
        "Como exemplo, podemos observar que o Processo 0 gerou o número 3 e encaminhou ao Processo 1 com sucesso.\n",
        "Utilizando este exemplo de MPI, resolva a questão apresentada."
      ],
      "metadata": {
        "id": "RmqgnO0FBvF6"
      }
    },
    {
      "cell_type": "markdown",
      "source": [
        "Time"
      ],
      "metadata": {
        "id": "BDHBMyMn4LxW"
      }
    },
    {
      "cell_type": "code",
      "source": [
        "import time as t\n",
        "\n",
        "tempo_teorico2=[]\n",
        "tempo_exec2=[]\n",
        "\n",
        "\n",
        "for i in range(15, 23):\n",
        "  tempo_atual = t.time()\n",
        "  string = 'mpirun --allow-run-as-root -np 2 python codigoobi2.py '+str(i)+' >> /dev/null'\n",
        "  !$string\n",
        "  tempo_final2 = t.time()\n",
        "  tempo_final2 -= tempo_atual\n",
        "  tempo_exec2.append((i,tempo_final2))\n",
        "  tempo_teorico2.append((i+1, tempo_final2*2))\n",
        "  \n",
        "print(tempo_exec2) \n",
        "print(tempo_teorico2)"
      ],
      "metadata": {
        "id": "r4kiTBjUBqLX",
        "colab": {
          "base_uri": "https://localhost:8080/"
        },
        "outputId": "44f5a1a2-3514-47aa-9a1d-2a26ec600f7b"
      },
      "execution_count": null,
      "outputs": [
        {
          "output_type": "stream",
          "name": "stdout",
          "text": [
            "[(15, 1.446485996246338), (16, 2.1435182094573975), (17, 2.3549044132232666), (18, 4.2656919956207275), (19, 7.153522491455078), (20, 14.186343431472778), (21, 30.26026463508606), (22, 62.81302452087402)]\n",
            "[(16, 2.892971992492676), (17, 4.287036418914795), (18, 4.709808826446533), (19, 8.531383991241455), (20, 14.307044982910156), (21, 28.372686862945557), (22, 60.52052927017212), (23, 125.62604904174805)]\n"
          ]
        }
      ]
    },
    {
      "cell_type": "markdown",
      "source": [
        "Plotter\n",
        "\n",
        "Importing MatPlotLib\n",
        "\n",
        "Plotando o Gráfico"
      ],
      "metadata": {
        "id": "1SW1Vhkc4FhW"
      }
    },
    {
      "cell_type": "code",
      "source": [
        "import matplotlib.pyplot as plot\n",
        "\n",
        "plot.figure(figsize=(10,7))\n",
        "plot.plot([tempo_exec2[i][0] for i in range(len(tempo_exec2))], [tempo_exec2[i][1] for i in range(len(tempo_exec2))], label='MultiCore')\n",
        "plot.plot([tempo_teorico2[i][0] for i in range(len(tempo_teorico2)-1)], [tempo_teorico2[i][1] for i in range(len(tempo_teorico2)-1)], label='Previsão')\n",
        "\n",
        "#Configurando o Plotter\n",
        "#Título\n",
        "plot.title('Tempo de Execução')\n",
        "\n",
        "#Eixos\n",
        "plot.xlabel('Lista')\n",
        "plot.ylabel('Tempo em Segundos')\n",
        "\n",
        "#Gerando o Gráfico\n",
        "plot.legend()\n",
        "plot.grid()\n",
        "plot.show()"
      ],
      "metadata": {
        "colab": {
          "base_uri": "https://localhost:8080/",
          "height": 458
        },
        "id": "dx-WoSB32Jou",
        "outputId": "35e7791a-8eb0-462c-95ec-243e693cd5cd"
      },
      "execution_count": null,
      "outputs": [
        {
          "output_type": "display_data",
          "data": {
            "text/plain": [
              "<Figure size 720x504 with 1 Axes>"
            ],
            "image/png": "[encoded data removed]"
          },
          "metadata": {
            "needs_background": "light"
          }
        }
      ]
    }
  ]
}